{
 "cells": [
  {
   "cell_type": "markdown",
   "metadata": {},
   "source": [
    "\n",
    "___\n",
    "\n",
    "<p style=\"text-align: center;\"><img src=\"https://docs.google.com/uc?id=1lY0Uj5R04yMY3-ZppPWxqCr5pvBLYPnV\" class=\"img-fluid\" alt=\"CLRSWY\"></p>\n",
    "\n",
    "___"
   ]
  },
  {
   "cell_type": "markdown",
   "metadata": {},
   "source": [
    "<h1><p style=\"text-align: center;\">Data Analysis with Python <br>Project - 1</p><h1> - Traffic Police Stops <img src=\"https://docs.google.com/uc?id=17CPCwi3_VvzcS87TOsh4_U8eExOhL6Ki\" class=\"img-fluid\" alt=\"CLRSWY\" width=\"200\" height=\"100\"> "
   ]
  },
  {
   "cell_type": "markdown",
   "metadata": {},
   "source": [
    "Before beginning your analysis, it is critical that you first examine and clean the dataset, to make working with it a more efficient process. You will practice fixing data types, handling missing values, and dropping columns and rows while learning about the Stanford Open Policing Project dataset."
   ]
  },
  {
   "cell_type": "markdown",
   "metadata": {},
   "source": [
    "***"
   ]
  },
  {
   "cell_type": "markdown",
   "metadata": {},
   "source": [
    "## Examining the dataset"
   ]
  },
  {
   "cell_type": "markdown",
   "metadata": {},
   "source": [
    "You'll be analyzing a dataset of traffic stops in Rhode Island that was collected by the Stanford Open Policing Project."
   ]
  },
  {
   "cell_type": "markdown",
   "metadata": {},
   "source": [
    "Before beginning your analysis, it's important that you familiarize yourself with the dataset. You'll read the dataset into pandas, examine the first few rows, and then count the number of missing values."
   ]
  },
  {
   "cell_type": "markdown",
   "metadata": {},
   "source": [
    "**INSTRUCTIONS**\n",
    "\n",
    "*   Import pandas using the alias ``pd``.\n",
    "*   Read the file police.csv into a DataFrame named ``ri``\n",
    "*   Examine the first 5 rows of the ``DataFrame`` (known as the ``\"head\"``).\n",
    "*   Count the number of missing values in each column: Use ``.isnull()`` to check which ``DataFrame`` elements are missing, and then take the ``.sum()`` to count the number of ``True`` values in each column."
   ]
  },
  {
   "cell_type": "code",
   "execution_count": 1,
   "metadata": {},
   "outputs": [],
   "source": [
    "# Import pandas using the alias pd.\n",
    "import pandas as pd\n"
   ]
  },
  {
   "cell_type": "code",
   "execution_count": 2,
   "metadata": {},
   "outputs": [
    {
     "data": {
      "text/html": [
       "<div>\n",
       "<style scoped>\n",
       "    .dataframe tbody tr th:only-of-type {\n",
       "        vertical-align: middle;\n",
       "    }\n",
       "\n",
       "    .dataframe tbody tr th {\n",
       "        vertical-align: top;\n",
       "    }\n",
       "\n",
       "    .dataframe thead th {\n",
       "        text-align: right;\n",
       "    }\n",
       "</style>\n",
       "<table border=\"1\" class=\"dataframe\">\n",
       "  <thead>\n",
       "    <tr style=\"text-align: right;\">\n",
       "      <th></th>\n",
       "      <th>id</th>\n",
       "      <th>state</th>\n",
       "      <th>stop_date</th>\n",
       "      <th>stop_time</th>\n",
       "      <th>location_raw</th>\n",
       "      <th>county_name</th>\n",
       "      <th>county_fips</th>\n",
       "      <th>fine_grained_location</th>\n",
       "      <th>police_department</th>\n",
       "      <th>driver_gender</th>\n",
       "      <th>...</th>\n",
       "      <th>search_conducted</th>\n",
       "      <th>search_type_raw</th>\n",
       "      <th>search_type</th>\n",
       "      <th>contraband_found</th>\n",
       "      <th>stop_outcome</th>\n",
       "      <th>is_arrested</th>\n",
       "      <th>stop_duration</th>\n",
       "      <th>out_of_state</th>\n",
       "      <th>drugs_related_stop</th>\n",
       "      <th>district</th>\n",
       "    </tr>\n",
       "  </thead>\n",
       "  <tbody>\n",
       "    <tr>\n",
       "      <td>0</td>\n",
       "      <td>RI-2005-00001</td>\n",
       "      <td>RI</td>\n",
       "      <td>2005-01-02</td>\n",
       "      <td>01:55</td>\n",
       "      <td>Zone K1</td>\n",
       "      <td>NaN</td>\n",
       "      <td>NaN</td>\n",
       "      <td>NaN</td>\n",
       "      <td>600</td>\n",
       "      <td>M</td>\n",
       "      <td>...</td>\n",
       "      <td>False</td>\n",
       "      <td>NaN</td>\n",
       "      <td>NaN</td>\n",
       "      <td>False</td>\n",
       "      <td>Citation</td>\n",
       "      <td>False</td>\n",
       "      <td>0-15 Min</td>\n",
       "      <td>False</td>\n",
       "      <td>False</td>\n",
       "      <td>Zone K1</td>\n",
       "    </tr>\n",
       "    <tr>\n",
       "      <td>1</td>\n",
       "      <td>RI-2005-00002</td>\n",
       "      <td>RI</td>\n",
       "      <td>2005-01-02</td>\n",
       "      <td>20:30</td>\n",
       "      <td>Zone X4</td>\n",
       "      <td>NaN</td>\n",
       "      <td>NaN</td>\n",
       "      <td>NaN</td>\n",
       "      <td>500</td>\n",
       "      <td>M</td>\n",
       "      <td>...</td>\n",
       "      <td>False</td>\n",
       "      <td>NaN</td>\n",
       "      <td>NaN</td>\n",
       "      <td>False</td>\n",
       "      <td>Citation</td>\n",
       "      <td>False</td>\n",
       "      <td>16-30 Min</td>\n",
       "      <td>False</td>\n",
       "      <td>False</td>\n",
       "      <td>Zone X4</td>\n",
       "    </tr>\n",
       "    <tr>\n",
       "      <td>2</td>\n",
       "      <td>RI-2005-00003</td>\n",
       "      <td>RI</td>\n",
       "      <td>2005-01-04</td>\n",
       "      <td>11:30</td>\n",
       "      <td>Zone X1</td>\n",
       "      <td>NaN</td>\n",
       "      <td>NaN</td>\n",
       "      <td>NaN</td>\n",
       "      <td>000</td>\n",
       "      <td>NaN</td>\n",
       "      <td>...</td>\n",
       "      <td>False</td>\n",
       "      <td>NaN</td>\n",
       "      <td>NaN</td>\n",
       "      <td>False</td>\n",
       "      <td>NaN</td>\n",
       "      <td>NaN</td>\n",
       "      <td>NaN</td>\n",
       "      <td>NaN</td>\n",
       "      <td>False</td>\n",
       "      <td>Zone X1</td>\n",
       "    </tr>\n",
       "    <tr>\n",
       "      <td>3</td>\n",
       "      <td>RI-2005-00004</td>\n",
       "      <td>RI</td>\n",
       "      <td>2005-01-04</td>\n",
       "      <td>12:55</td>\n",
       "      <td>Zone X4</td>\n",
       "      <td>NaN</td>\n",
       "      <td>NaN</td>\n",
       "      <td>NaN</td>\n",
       "      <td>500</td>\n",
       "      <td>M</td>\n",
       "      <td>...</td>\n",
       "      <td>False</td>\n",
       "      <td>NaN</td>\n",
       "      <td>NaN</td>\n",
       "      <td>False</td>\n",
       "      <td>Citation</td>\n",
       "      <td>False</td>\n",
       "      <td>0-15 Min</td>\n",
       "      <td>False</td>\n",
       "      <td>False</td>\n",
       "      <td>Zone X4</td>\n",
       "    </tr>\n",
       "    <tr>\n",
       "      <td>4</td>\n",
       "      <td>RI-2005-00005</td>\n",
       "      <td>RI</td>\n",
       "      <td>2005-01-06</td>\n",
       "      <td>01:30</td>\n",
       "      <td>Zone X4</td>\n",
       "      <td>NaN</td>\n",
       "      <td>NaN</td>\n",
       "      <td>NaN</td>\n",
       "      <td>500</td>\n",
       "      <td>M</td>\n",
       "      <td>...</td>\n",
       "      <td>False</td>\n",
       "      <td>NaN</td>\n",
       "      <td>NaN</td>\n",
       "      <td>False</td>\n",
       "      <td>Citation</td>\n",
       "      <td>False</td>\n",
       "      <td>0-15 Min</td>\n",
       "      <td>False</td>\n",
       "      <td>False</td>\n",
       "      <td>Zone X4</td>\n",
       "    </tr>\n",
       "  </tbody>\n",
       "</table>\n",
       "<p>5 rows × 26 columns</p>\n",
       "</div>"
      ],
      "text/plain": [
       "              id state   stop_date stop_time location_raw  county_name  \\\n",
       "0  RI-2005-00001    RI  2005-01-02     01:55      Zone K1          NaN   \n",
       "1  RI-2005-00002    RI  2005-01-02     20:30      Zone X4          NaN   \n",
       "2  RI-2005-00003    RI  2005-01-04     11:30      Zone X1          NaN   \n",
       "3  RI-2005-00004    RI  2005-01-04     12:55      Zone X4          NaN   \n",
       "4  RI-2005-00005    RI  2005-01-06     01:30      Zone X4          NaN   \n",
       "\n",
       "   county_fips  fine_grained_location police_department driver_gender  ...  \\\n",
       "0          NaN                    NaN               600             M  ...   \n",
       "1          NaN                    NaN               500             M  ...   \n",
       "2          NaN                    NaN               000           NaN  ...   \n",
       "3          NaN                    NaN               500             M  ...   \n",
       "4          NaN                    NaN               500             M  ...   \n",
       "\n",
       "   search_conducted  search_type_raw search_type contraband_found  \\\n",
       "0             False              NaN         NaN            False   \n",
       "1             False              NaN         NaN            False   \n",
       "2             False              NaN         NaN            False   \n",
       "3             False              NaN         NaN            False   \n",
       "4             False              NaN         NaN            False   \n",
       "\n",
       "  stop_outcome is_arrested stop_duration out_of_state drugs_related_stop  \\\n",
       "0     Citation       False      0-15 Min        False              False   \n",
       "1     Citation       False     16-30 Min        False              False   \n",
       "2          NaN         NaN           NaN          NaN              False   \n",
       "3     Citation       False      0-15 Min        False              False   \n",
       "4     Citation       False      0-15 Min        False              False   \n",
       "\n",
       "   district  \n",
       "0   Zone K1  \n",
       "1   Zone X4  \n",
       "2   Zone X1  \n",
       "3   Zone X4  \n",
       "4   Zone X4  \n",
       "\n",
       "[5 rows x 26 columns]"
      ]
     },
     "execution_count": 2,
     "metadata": {},
     "output_type": "execute_result"
    }
   ],
   "source": [
    "# read the file police.csv into a DataFrame named ri\n",
    "ri = pd.read_csv('police.csv', low_memory=False)\n",
    "# Examine the first 5 rows of the DataFrame (known as the \"head\").\n",
    "ri.head()\n"
   ]
  },
  {
   "cell_type": "code",
   "execution_count": 3,
   "metadata": {},
   "outputs": [
    {
     "data": {
      "text/html": [
       "<div>\n",
       "<style scoped>\n",
       "    .dataframe tbody tr th:only-of-type {\n",
       "        vertical-align: middle;\n",
       "    }\n",
       "\n",
       "    .dataframe tbody tr th {\n",
       "        vertical-align: top;\n",
       "    }\n",
       "\n",
       "    .dataframe thead th {\n",
       "        text-align: right;\n",
       "    }\n",
       "</style>\n",
       "<table border=\"1\" class=\"dataframe\">\n",
       "  <thead>\n",
       "    <tr style=\"text-align: right;\">\n",
       "      <th></th>\n",
       "      <th>id</th>\n",
       "      <th>state</th>\n",
       "      <th>stop_date</th>\n",
       "      <th>stop_time</th>\n",
       "      <th>location_raw</th>\n",
       "      <th>county_name</th>\n",
       "      <th>county_fips</th>\n",
       "      <th>fine_grained_location</th>\n",
       "      <th>police_department</th>\n",
       "      <th>driver_gender</th>\n",
       "      <th>...</th>\n",
       "      <th>search_conducted</th>\n",
       "      <th>search_type_raw</th>\n",
       "      <th>search_type</th>\n",
       "      <th>contraband_found</th>\n",
       "      <th>stop_outcome</th>\n",
       "      <th>is_arrested</th>\n",
       "      <th>stop_duration</th>\n",
       "      <th>out_of_state</th>\n",
       "      <th>drugs_related_stop</th>\n",
       "      <th>district</th>\n",
       "    </tr>\n",
       "  </thead>\n",
       "  <tbody>\n",
       "    <tr>\n",
       "      <td>not_null</td>\n",
       "      <td>509681.0</td>\n",
       "      <td>509681.0</td>\n",
       "      <td>509671.000000</td>\n",
       "      <td>509671.000000</td>\n",
       "      <td>509681.0</td>\n",
       "      <td>0.0</td>\n",
       "      <td>0.0</td>\n",
       "      <td>0.0</td>\n",
       "      <td>509671.000000</td>\n",
       "      <td>480584.000000</td>\n",
       "      <td>...</td>\n",
       "      <td>509671.000000</td>\n",
       "      <td>17762.000000</td>\n",
       "      <td>17762.000000</td>\n",
       "      <td>509681.0</td>\n",
       "      <td>480608.000000</td>\n",
       "      <td>480608.000000</td>\n",
       "      <td>480608.000000</td>\n",
       "      <td>479800.000000</td>\n",
       "      <td>509681.0</td>\n",
       "      <td>509681.0</td>\n",
       "    </tr>\n",
       "    <tr>\n",
       "      <td>is_null</td>\n",
       "      <td>0.0</td>\n",
       "      <td>0.0</td>\n",
       "      <td>10.000000</td>\n",
       "      <td>10.000000</td>\n",
       "      <td>0.0</td>\n",
       "      <td>509681.0</td>\n",
       "      <td>509681.0</td>\n",
       "      <td>509681.0</td>\n",
       "      <td>10.000000</td>\n",
       "      <td>29097.000000</td>\n",
       "      <td>...</td>\n",
       "      <td>10.000000</td>\n",
       "      <td>491919.000000</td>\n",
       "      <td>491919.000000</td>\n",
       "      <td>0.0</td>\n",
       "      <td>29073.000000</td>\n",
       "      <td>29073.000000</td>\n",
       "      <td>29073.000000</td>\n",
       "      <td>29881.000000</td>\n",
       "      <td>0.0</td>\n",
       "      <td>0.0</td>\n",
       "    </tr>\n",
       "    <tr>\n",
       "      <td>null_percentage</td>\n",
       "      <td>0.0</td>\n",
       "      <td>0.0</td>\n",
       "      <td>0.001962</td>\n",
       "      <td>0.001962</td>\n",
       "      <td>0.0</td>\n",
       "      <td>100.0</td>\n",
       "      <td>100.0</td>\n",
       "      <td>100.0</td>\n",
       "      <td>0.001962</td>\n",
       "      <td>5.708865</td>\n",
       "      <td>...</td>\n",
       "      <td>0.001962</td>\n",
       "      <td>96.515075</td>\n",
       "      <td>96.515075</td>\n",
       "      <td>0.0</td>\n",
       "      <td>5.704156</td>\n",
       "      <td>5.704156</td>\n",
       "      <td>5.704156</td>\n",
       "      <td>5.862687</td>\n",
       "      <td>0.0</td>\n",
       "      <td>0.0</td>\n",
       "    </tr>\n",
       "  </tbody>\n",
       "</table>\n",
       "<p>3 rows × 26 columns</p>\n",
       "</div>"
      ],
      "text/plain": [
       "                       id     state      stop_date      stop_time  \\\n",
       "not_null         509681.0  509681.0  509671.000000  509671.000000   \n",
       "is_null               0.0       0.0      10.000000      10.000000   \n",
       "null_percentage       0.0       0.0       0.001962       0.001962   \n",
       "\n",
       "                 location_raw  county_name  county_fips  \\\n",
       "not_null             509681.0          0.0          0.0   \n",
       "is_null                   0.0     509681.0     509681.0   \n",
       "null_percentage           0.0        100.0        100.0   \n",
       "\n",
       "                 fine_grained_location  police_department  driver_gender  ...  \\\n",
       "not_null                           0.0      509671.000000  480584.000000  ...   \n",
       "is_null                       509681.0          10.000000   29097.000000  ...   \n",
       "null_percentage                  100.0           0.001962       5.708865  ...   \n",
       "\n",
       "                 search_conducted  search_type_raw    search_type  \\\n",
       "not_null            509671.000000     17762.000000   17762.000000   \n",
       "is_null                 10.000000    491919.000000  491919.000000   \n",
       "null_percentage          0.001962        96.515075      96.515075   \n",
       "\n",
       "                 contraband_found   stop_outcome    is_arrested  \\\n",
       "not_null                 509681.0  480608.000000  480608.000000   \n",
       "is_null                       0.0   29073.000000   29073.000000   \n",
       "null_percentage               0.0       5.704156       5.704156   \n",
       "\n",
       "                 stop_duration   out_of_state  drugs_related_stop  district  \n",
       "not_null         480608.000000  479800.000000            509681.0  509681.0  \n",
       "is_null           29073.000000   29881.000000                 0.0       0.0  \n",
       "null_percentage       5.704156       5.862687                 0.0       0.0  \n",
       "\n",
       "[3 rows x 26 columns]"
      ]
     },
     "execution_count": 3,
     "metadata": {},
     "output_type": "execute_result"
    }
   ],
   "source": [
    "# Count the number of missing values and percentage in each column: \n",
    "null_df = pd.DataFrame({'not_null' : ri.notnull().sum(),\n",
    "                   'is_null' : ri.isnull().sum(),\n",
    "                  'null_percentage':  ri.isnull().sum() / ri.shape[0] * 100})\n",
    "null_df.T\n"
   ]
  },
  {
   "cell_type": "markdown",
   "metadata": {},
   "source": [
    "***"
   ]
  },
  {
   "cell_type": "markdown",
   "metadata": {},
   "source": [
    "## Dropping columns"
   ]
  },
  {
   "cell_type": "markdown",
   "metadata": {},
   "source": [
    "Often, a DataFrame will contain columns that are not useful to your analysis. Such columns should be dropped from the ``DataFrame``, to make it easier for you to focus on the remaining columns.\n",
    "\n",
    "You'll drop the ``county_name`` column because it only contains missing values, and you'll drop the ``state`` column because all of the traffic stops took place in one state (Rhode Island). Thus, these columns can be dropped because they contain no useful information."
   ]
  },
  {
   "cell_type": "markdown",
   "metadata": {},
   "source": [
    "**INSTRUCTIONS**\n",
    "\n",
    "*   Examine the ``DataFrame``'s shape to find out the number of rows and columns.\n",
    "\n",
    "*   Drop the columns that almost consist of missing values. \n",
    "\n",
    "*   Examine the ``.shape`` again to verify that there are now two fewer columns."
   ]
  },
  {
   "cell_type": "code",
   "execution_count": 4,
   "metadata": {},
   "outputs": [
    {
     "data": {
      "text/html": [
       "<div>\n",
       "<style scoped>\n",
       "    .dataframe tbody tr th:only-of-type {\n",
       "        vertical-align: middle;\n",
       "    }\n",
       "\n",
       "    .dataframe tbody tr th {\n",
       "        vertical-align: top;\n",
       "    }\n",
       "\n",
       "    .dataframe thead th {\n",
       "        text-align: right;\n",
       "    }\n",
       "</style>\n",
       "<table border=\"1\" class=\"dataframe\">\n",
       "  <thead>\n",
       "    <tr style=\"text-align: right;\">\n",
       "      <th></th>\n",
       "      <th>not_null</th>\n",
       "      <th>is_null</th>\n",
       "      <th>null_percentage</th>\n",
       "    </tr>\n",
       "  </thead>\n",
       "  <tbody>\n",
       "    <tr>\n",
       "      <td>county_name</td>\n",
       "      <td>0</td>\n",
       "      <td>509681</td>\n",
       "      <td>100.000000</td>\n",
       "    </tr>\n",
       "    <tr>\n",
       "      <td>county_fips</td>\n",
       "      <td>0</td>\n",
       "      <td>509681</td>\n",
       "      <td>100.000000</td>\n",
       "    </tr>\n",
       "    <tr>\n",
       "      <td>fine_grained_location</td>\n",
       "      <td>0</td>\n",
       "      <td>509681</td>\n",
       "      <td>100.000000</td>\n",
       "    </tr>\n",
       "    <tr>\n",
       "      <td>search_type_raw</td>\n",
       "      <td>17762</td>\n",
       "      <td>491919</td>\n",
       "      <td>96.515075</td>\n",
       "    </tr>\n",
       "    <tr>\n",
       "      <td>search_type</td>\n",
       "      <td>17762</td>\n",
       "      <td>491919</td>\n",
       "      <td>96.515075</td>\n",
       "    </tr>\n",
       "  </tbody>\n",
       "</table>\n",
       "</div>"
      ],
      "text/plain": [
       "                       not_null  is_null  null_percentage\n",
       "county_name                   0   509681       100.000000\n",
       "county_fips                   0   509681       100.000000\n",
       "fine_grained_location         0   509681       100.000000\n",
       "search_type_raw           17762   491919        96.515075\n",
       "search_type               17762   491919        96.515075"
      ]
     },
     "execution_count": 4,
     "metadata": {},
     "output_type": "execute_result"
    }
   ],
   "source": [
    "# More than 95% value is null.\n",
    "null_df[null_df.null_percentage > 95]\n"
   ]
  },
  {
   "cell_type": "code",
   "execution_count": 5,
   "metadata": {},
   "outputs": [
    {
     "data": {
      "text/plain": [
       "False    491909\n",
       "True      17762\n",
       "Name: search_conducted, dtype: int64"
      ]
     },
     "execution_count": 5,
     "metadata": {},
     "output_type": "execute_result"
    }
   ],
   "source": [
    "# Search_type can be related with search_conducted. So I can't drop it.\n",
    "ri.search_conducted.value_counts()"
   ]
  },
  {
   "cell_type": "code",
   "execution_count": 6,
   "metadata": {},
   "outputs": [
    {
     "data": {
      "text/plain": [
       "{'county_fips', 'county_name', 'fine_grained_location', 'state'}"
      ]
     },
     "execution_count": 6,
     "metadata": {},
     "output_type": "execute_result"
    }
   ],
   "source": [
    "# Only a unique value and no usefull information\n",
    "not_usefull_1 = [i for i in ri.columns if len(ri[i].unique()) == 1]\n",
    "# 100% value is null.\n",
    "not_usefull_2 = list(null_df[null_df.null_percentage == 100].index)\n",
    "# This columns not usefull and insufficient data\n",
    "not_usefull = set(not_usefull_1 + not_usefull_2)\n",
    "not_usefull"
   ]
  },
  {
   "cell_type": "code",
   "execution_count": 7,
   "metadata": {},
   "outputs": [
    {
     "data": {
      "text/plain": [
       "(509681, 22)"
      ]
     },
     "execution_count": 7,
     "metadata": {},
     "output_type": "execute_result"
    }
   ],
   "source": [
    "# Drop all not_usefull columns and check the DataFrame shape\n",
    "ri.drop(not_usefull, inplace = True, axis =1)\n",
    "ri.shape\n"
   ]
  },
  {
   "cell_type": "markdown",
   "metadata": {},
   "source": [
    "***"
   ]
  },
  {
   "cell_type": "markdown",
   "metadata": {},
   "source": [
    "## Dropping rows"
   ]
  },
  {
   "cell_type": "markdown",
   "metadata": {},
   "source": [
    "When you know that a specific column will be critical to your analysis, and only a small fraction of rows are missing a value in that column, it often makes sense to remove those rows from the dataset.\n",
    "\n",
    "During this course, the ``driver_gender`` column will be critical to many of your analyses. Because only a small fraction of rows are missing ``driver_gender``, we'll drop those rows from the dataset."
   ]
  },
  {
   "cell_type": "markdown",
   "metadata": {},
   "source": [
    "**INSTRUCTIONS**\n",
    "\n",
    "*   Count the number of missing values in each column.\n",
    "\n",
    "*   Drop all rows that are missing ``driver_gender`` by passing the column name to the subset parameter of ``.dropna()``.\n",
    "*   Count the number of missing values in each column again, to verify that none of the remaining rows are missing ``driver_gender``.\n",
    "*   Examine the ``DataFrame``'s ``.shape`` to see how many rows and columns remain."
   ]
  },
  {
   "cell_type": "code",
   "execution_count": 8,
   "metadata": {},
   "outputs": [
    {
     "data": {
      "text/plain": [
       "id                         0\n",
       "stop_date                 10\n",
       "stop_time                 10\n",
       "location_raw               0\n",
       "police_department         10\n",
       "driver_gender          29097\n",
       "driver_age_raw         29049\n",
       "driver_age             30695\n",
       "driver_race_raw        29073\n",
       "driver_race            29073\n",
       "violation_raw          29073\n",
       "violation              29073\n",
       "search_conducted          10\n",
       "search_type_raw       491919\n",
       "search_type           491919\n",
       "contraband_found           0\n",
       "stop_outcome           29073\n",
       "is_arrested            29073\n",
       "stop_duration          29073\n",
       "out_of_state           29881\n",
       "drugs_related_stop         0\n",
       "district                   0\n",
       "dtype: int64"
      ]
     },
     "execution_count": 8,
     "metadata": {},
     "output_type": "execute_result"
    }
   ],
   "source": [
    "# Examine the sum of the null values in each columns and we see that there are 29097 missing values in driver_gender\n",
    "ri.isnull().sum()\n"
   ]
  },
  {
   "cell_type": "code",
   "execution_count": 9,
   "metadata": {},
   "outputs": [
    {
     "data": {
      "text/plain": [
       "0"
      ]
     },
     "execution_count": 9,
     "metadata": {},
     "output_type": "execute_result"
    }
   ],
   "source": [
    "# Drop the rows which driver_gender's value is null\n",
    "ri.dropna(subset = ['driver_gender'], inplace = True)\n",
    "ri.driver_gender.isnull().sum()\n"
   ]
  },
  {
   "cell_type": "code",
   "execution_count": 10,
   "metadata": {},
   "outputs": [
    {
     "data": {
      "text/plain": [
       "(480584, 22)"
      ]
     },
     "execution_count": 10,
     "metadata": {},
     "output_type": "execute_result"
    }
   ],
   "source": [
    "# Check the shape DataFrame\n",
    "ri.shape\n"
   ]
  },
  {
   "cell_type": "markdown",
   "metadata": {},
   "source": [
    "***"
   ]
  },
  {
   "cell_type": "markdown",
   "metadata": {},
   "source": [
    "## Fixing a data type"
   ]
  },
  {
   "cell_type": "markdown",
   "metadata": {},
   "source": [
    "We know that the ``is_arrested`` column currently has the ``object`` data type. In this exercise, we'll change the data type to ``bool``, which is the most suitable type for a column containing ``True`` and ``False`` values.\n",
    "\n",
    "Fixing the data type will enable us to use mathematical operations on the ``is_arrested`` column that would not be possible otherwise."
   ]
  },
  {
   "cell_type": "markdown",
   "metadata": {},
   "source": [
    "**INSTRUCTIONS**\n",
    "\n",
    "*   Examine the head of the ``is_arrested`` column to verify that it contains ``True`` and ``False`` values.\n",
    "*   Check the current data type of ``is_arrested``.\n",
    "*   Use the ``.astype()`` method to convert ``is_arrested`` to a ``bool`` column.\n",
    "*   Check the new data type of ``is_arrested``, to confirm that it is now a ``bool`` column."
   ]
  },
  {
   "cell_type": "code",
   "execution_count": 11,
   "metadata": {},
   "outputs": [
    {
     "data": {
      "text/plain": [
       "array([False, True], dtype=object)"
      ]
     },
     "execution_count": 11,
     "metadata": {},
     "output_type": "execute_result"
    }
   ],
   "source": [
    "# Check the unique value in is_arrested column\n",
    "ri.is_arrested.unique()\n"
   ]
  },
  {
   "cell_type": "code",
   "execution_count": 12,
   "metadata": {},
   "outputs": [
    {
     "data": {
      "text/plain": [
       "True"
      ]
     },
     "execution_count": 12,
     "metadata": {},
     "output_type": "execute_result"
    }
   ],
   "source": [
    "# Change the type of is_arrested to boolean\n",
    "ri.is_arrested = ri.is_arrested.astype('bool')\n",
    "# Check the type \n",
    "ri.is_arrested.dtype == bool\n"
   ]
  },
  {
   "cell_type": "markdown",
   "metadata": {},
   "source": [
    "***"
   ]
  },
  {
   "cell_type": "markdown",
   "metadata": {},
   "source": [
    "## Combining object columns"
   ]
  },
  {
   "cell_type": "markdown",
   "metadata": {},
   "source": [
    "Currently, the date and time of each traffic stop are stored in separate object columns: ``stop_date`` and ``stop_time``.\n",
    "\n",
    "You'll combine these two columns into a single column, and then convert it to ``datetime`` format. This will enable convenient date-based attributes that we'll use later in the course."
   ]
  },
  {
   "cell_type": "markdown",
   "metadata": {},
   "source": [
    "**INSTRUCTIONS**\n",
    "\n",
    "*    Use a string method to concatenate ``stop_date`` and ``stop_time`` (separated by a space), and store the result in ``combined``.\n",
    "*    Convert ``combined`` to ``datetime`` format, and store the result in a new column named ``stop_datetime``.\n",
    "*    Examine the ``DataFrame`` ``.dtypes`` to confirm that ``stop_datetime`` is a datetime column."
   ]
  },
  {
   "cell_type": "code",
   "execution_count": 13,
   "metadata": {},
   "outputs": [
    {
     "name": "stdout",
     "output_type": "stream",
     "text": [
      "stop_date: object \n",
      " stop_time: object\n"
     ]
    }
   ],
   "source": [
    "# Check the type of two columns' type\n",
    "print(\"stop_date:\", ri.stop_date.dtype, \"\\n\", \"stop_time:\", ri.stop_time.dtype)\n"
   ]
  },
  {
   "cell_type": "code",
   "execution_count": 14,
   "metadata": {},
   "outputs": [
    {
     "data": {
      "text/plain": [
       "dtype('<M8[ns]')"
      ]
     },
     "execution_count": 14,
     "metadata": {},
     "output_type": "execute_result"
    }
   ],
   "source": [
    "# Concatenate two columns and change type to datetime\n",
    "ri['stop_datetime'] = ri['stop_date'] + \" \" + ri['stop_time']\n",
    "ri['stop_datetime'] = ri['stop_datetime'].astype('datetime64[ns]')\n",
    "ri.stop_datetime.dtype\n"
   ]
  },
  {
   "cell_type": "markdown",
   "metadata": {},
   "source": [
    "The last step that you'll take in this chapter is to set the ``stop_datetime`` column as the ``DataFrame``'s index. By replacing the default index with a ``DatetimeIndex``, you'll make it easier to analyze the dataset by date and time, which will come in handy later in the course."
   ]
  },
  {
   "cell_type": "markdown",
   "metadata": {},
   "source": [
    "**INSTRUCTIONS**\n",
    "\n",
    "*   Set ``stop_datetime`` as the ``DataFrame`` index.\n",
    "*   Examine the index to verify that it is a ``DatetimeIndex``.\n",
    "*   Examine the ``DataFrame`` columns to confirm that ``stop_datetime`` is no longer one of the columns."
   ]
  },
  {
   "cell_type": "code",
   "execution_count": 15,
   "metadata": {},
   "outputs": [
    {
     "name": "stdout",
     "output_type": "stream",
     "text": [
      "stop_datetime is one of the DataFrame's column: False\n",
      "<class 'pandas.core.indexes.datetimes.DatetimeIndex'>\n"
     ]
    }
   ],
   "source": [
    "# Change index to stop_datetime column\n",
    "ri.set_index(['stop_datetime'], inplace = True)\n",
    "# Check the stop_datetime column\n",
    "print(\"stop_datetime is one of the DataFrame's column:\", 'stop_datetime' in ri.columns)\n",
    "# Examine the index to verify that it is a DatetimeIndex.\n",
    "print(type(ri.index))\n"
   ]
  },
  {
   "cell_type": "code",
   "execution_count": 16,
   "metadata": {},
   "outputs": [
    {
     "data": {
      "text/html": [
       "<div>\n",
       "<style scoped>\n",
       "    .dataframe tbody tr th:only-of-type {\n",
       "        vertical-align: middle;\n",
       "    }\n",
       "\n",
       "    .dataframe tbody tr th {\n",
       "        vertical-align: top;\n",
       "    }\n",
       "\n",
       "    .dataframe thead th {\n",
       "        text-align: right;\n",
       "    }\n",
       "</style>\n",
       "<table border=\"1\" class=\"dataframe\">\n",
       "  <thead>\n",
       "    <tr style=\"text-align: right;\">\n",
       "      <th></th>\n",
       "      <th>id</th>\n",
       "      <th>stop_date</th>\n",
       "      <th>stop_time</th>\n",
       "      <th>location_raw</th>\n",
       "      <th>police_department</th>\n",
       "      <th>driver_gender</th>\n",
       "      <th>driver_age_raw</th>\n",
       "      <th>driver_age</th>\n",
       "      <th>driver_race_raw</th>\n",
       "      <th>driver_race</th>\n",
       "      <th>...</th>\n",
       "      <th>search_conducted</th>\n",
       "      <th>search_type_raw</th>\n",
       "      <th>search_type</th>\n",
       "      <th>contraband_found</th>\n",
       "      <th>stop_outcome</th>\n",
       "      <th>is_arrested</th>\n",
       "      <th>stop_duration</th>\n",
       "      <th>out_of_state</th>\n",
       "      <th>drugs_related_stop</th>\n",
       "      <th>district</th>\n",
       "    </tr>\n",
       "    <tr>\n",
       "      <th>stop_datetime</th>\n",
       "      <th></th>\n",
       "      <th></th>\n",
       "      <th></th>\n",
       "      <th></th>\n",
       "      <th></th>\n",
       "      <th></th>\n",
       "      <th></th>\n",
       "      <th></th>\n",
       "      <th></th>\n",
       "      <th></th>\n",
       "      <th></th>\n",
       "      <th></th>\n",
       "      <th></th>\n",
       "      <th></th>\n",
       "      <th></th>\n",
       "      <th></th>\n",
       "      <th></th>\n",
       "      <th></th>\n",
       "      <th></th>\n",
       "      <th></th>\n",
       "      <th></th>\n",
       "    </tr>\n",
       "  </thead>\n",
       "  <tbody>\n",
       "    <tr>\n",
       "      <td>2005-01-02 01:55:00</td>\n",
       "      <td>RI-2005-00001</td>\n",
       "      <td>2005-01-02</td>\n",
       "      <td>01:55</td>\n",
       "      <td>Zone K1</td>\n",
       "      <td>600</td>\n",
       "      <td>M</td>\n",
       "      <td>1985.0</td>\n",
       "      <td>20.0</td>\n",
       "      <td>W</td>\n",
       "      <td>White</td>\n",
       "      <td>...</td>\n",
       "      <td>False</td>\n",
       "      <td>NaN</td>\n",
       "      <td>NaN</td>\n",
       "      <td>False</td>\n",
       "      <td>Citation</td>\n",
       "      <td>False</td>\n",
       "      <td>0-15 Min</td>\n",
       "      <td>False</td>\n",
       "      <td>False</td>\n",
       "      <td>Zone K1</td>\n",
       "    </tr>\n",
       "    <tr>\n",
       "      <td>2005-01-02 20:30:00</td>\n",
       "      <td>RI-2005-00002</td>\n",
       "      <td>2005-01-02</td>\n",
       "      <td>20:30</td>\n",
       "      <td>Zone X4</td>\n",
       "      <td>500</td>\n",
       "      <td>M</td>\n",
       "      <td>1987.0</td>\n",
       "      <td>18.0</td>\n",
       "      <td>W</td>\n",
       "      <td>White</td>\n",
       "      <td>...</td>\n",
       "      <td>False</td>\n",
       "      <td>NaN</td>\n",
       "      <td>NaN</td>\n",
       "      <td>False</td>\n",
       "      <td>Citation</td>\n",
       "      <td>False</td>\n",
       "      <td>16-30 Min</td>\n",
       "      <td>False</td>\n",
       "      <td>False</td>\n",
       "      <td>Zone X4</td>\n",
       "    </tr>\n",
       "    <tr>\n",
       "      <td>2005-01-04 12:55:00</td>\n",
       "      <td>RI-2005-00004</td>\n",
       "      <td>2005-01-04</td>\n",
       "      <td>12:55</td>\n",
       "      <td>Zone X4</td>\n",
       "      <td>500</td>\n",
       "      <td>M</td>\n",
       "      <td>1986.0</td>\n",
       "      <td>19.0</td>\n",
       "      <td>W</td>\n",
       "      <td>White</td>\n",
       "      <td>...</td>\n",
       "      <td>False</td>\n",
       "      <td>NaN</td>\n",
       "      <td>NaN</td>\n",
       "      <td>False</td>\n",
       "      <td>Citation</td>\n",
       "      <td>False</td>\n",
       "      <td>0-15 Min</td>\n",
       "      <td>False</td>\n",
       "      <td>False</td>\n",
       "      <td>Zone X4</td>\n",
       "    </tr>\n",
       "    <tr>\n",
       "      <td>2005-01-06 01:30:00</td>\n",
       "      <td>RI-2005-00005</td>\n",
       "      <td>2005-01-06</td>\n",
       "      <td>01:30</td>\n",
       "      <td>Zone X4</td>\n",
       "      <td>500</td>\n",
       "      <td>M</td>\n",
       "      <td>1978.0</td>\n",
       "      <td>27.0</td>\n",
       "      <td>B</td>\n",
       "      <td>Black</td>\n",
       "      <td>...</td>\n",
       "      <td>False</td>\n",
       "      <td>NaN</td>\n",
       "      <td>NaN</td>\n",
       "      <td>False</td>\n",
       "      <td>Citation</td>\n",
       "      <td>False</td>\n",
       "      <td>0-15 Min</td>\n",
       "      <td>False</td>\n",
       "      <td>False</td>\n",
       "      <td>Zone X4</td>\n",
       "    </tr>\n",
       "    <tr>\n",
       "      <td>2005-01-12 08:05:00</td>\n",
       "      <td>RI-2005-00006</td>\n",
       "      <td>2005-01-12</td>\n",
       "      <td>08:05</td>\n",
       "      <td>Zone X1</td>\n",
       "      <td>000</td>\n",
       "      <td>M</td>\n",
       "      <td>1973.0</td>\n",
       "      <td>32.0</td>\n",
       "      <td>B</td>\n",
       "      <td>Black</td>\n",
       "      <td>...</td>\n",
       "      <td>False</td>\n",
       "      <td>NaN</td>\n",
       "      <td>NaN</td>\n",
       "      <td>False</td>\n",
       "      <td>Citation</td>\n",
       "      <td>False</td>\n",
       "      <td>30+ Min</td>\n",
       "      <td>True</td>\n",
       "      <td>False</td>\n",
       "      <td>Zone X1</td>\n",
       "    </tr>\n",
       "  </tbody>\n",
       "</table>\n",
       "<p>5 rows × 22 columns</p>\n",
       "</div>"
      ],
      "text/plain": [
       "                                id   stop_date stop_time location_raw  \\\n",
       "stop_datetime                                                           \n",
       "2005-01-02 01:55:00  RI-2005-00001  2005-01-02     01:55      Zone K1   \n",
       "2005-01-02 20:30:00  RI-2005-00002  2005-01-02     20:30      Zone X4   \n",
       "2005-01-04 12:55:00  RI-2005-00004  2005-01-04     12:55      Zone X4   \n",
       "2005-01-06 01:30:00  RI-2005-00005  2005-01-06     01:30      Zone X4   \n",
       "2005-01-12 08:05:00  RI-2005-00006  2005-01-12     08:05      Zone X1   \n",
       "\n",
       "                    police_department driver_gender  driver_age_raw  \\\n",
       "stop_datetime                                                         \n",
       "2005-01-02 01:55:00               600             M          1985.0   \n",
       "2005-01-02 20:30:00               500             M          1987.0   \n",
       "2005-01-04 12:55:00               500             M          1986.0   \n",
       "2005-01-06 01:30:00               500             M          1978.0   \n",
       "2005-01-12 08:05:00               000             M          1973.0   \n",
       "\n",
       "                     driver_age driver_race_raw driver_race  ...  \\\n",
       "stop_datetime                                                ...   \n",
       "2005-01-02 01:55:00        20.0               W       White  ...   \n",
       "2005-01-02 20:30:00        18.0               W       White  ...   \n",
       "2005-01-04 12:55:00        19.0               W       White  ...   \n",
       "2005-01-06 01:30:00        27.0               B       Black  ...   \n",
       "2005-01-12 08:05:00        32.0               B       Black  ...   \n",
       "\n",
       "                    search_conducted search_type_raw search_type  \\\n",
       "stop_datetime                                                      \n",
       "2005-01-02 01:55:00            False             NaN         NaN   \n",
       "2005-01-02 20:30:00            False             NaN         NaN   \n",
       "2005-01-04 12:55:00            False             NaN         NaN   \n",
       "2005-01-06 01:30:00            False             NaN         NaN   \n",
       "2005-01-12 08:05:00            False             NaN         NaN   \n",
       "\n",
       "                    contraband_found stop_outcome  is_arrested stop_duration  \\\n",
       "stop_datetime                                                                  \n",
       "2005-01-02 01:55:00            False     Citation        False      0-15 Min   \n",
       "2005-01-02 20:30:00            False     Citation        False     16-30 Min   \n",
       "2005-01-04 12:55:00            False     Citation        False      0-15 Min   \n",
       "2005-01-06 01:30:00            False     Citation        False      0-15 Min   \n",
       "2005-01-12 08:05:00            False     Citation        False       30+ Min   \n",
       "\n",
       "                     out_of_state drugs_related_stop district  \n",
       "stop_datetime                                                  \n",
       "2005-01-02 01:55:00         False              False  Zone K1  \n",
       "2005-01-02 20:30:00         False              False  Zone X4  \n",
       "2005-01-04 12:55:00         False              False  Zone X4  \n",
       "2005-01-06 01:30:00         False              False  Zone X4  \n",
       "2005-01-12 08:05:00          True              False  Zone X1  \n",
       "\n",
       "[5 rows x 22 columns]"
      ]
     },
     "execution_count": 16,
     "metadata": {},
     "output_type": "execute_result"
    }
   ],
   "source": [
    "ri.to_csv('ri.csv')\n",
    "# The end. Clean and usefull DataFrame is here. \n",
    "pd.read_csv('ri.csv', low_memory=False)\n",
    "ri.head()\n"
   ]
  },
  {
   "cell_type": "markdown",
   "metadata": {},
   "source": [
    "### mehmetfatihdata"
   ]
  }
 ],
 "metadata": {
  "kernelspec": {
   "display_name": "Python 3",
   "language": "python",
   "name": "python3"
  },
  "language_info": {
   "codemirror_mode": {
    "name": "ipython",
    "version": 3
   },
   "file_extension": ".py",
   "mimetype": "text/x-python",
   "name": "python",
   "nbconvert_exporter": "python",
   "pygments_lexer": "ipython3",
   "version": "3.7.4"
  }
 },
 "nbformat": 4,
 "nbformat_minor": 4
}
